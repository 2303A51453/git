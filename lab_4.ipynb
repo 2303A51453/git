{
  "nbformat": 4,
  "nbformat_minor": 0,
  "metadata": {
    "colab": {
      "provenance": [],
      "authorship_tag": "ABX9TyOn/vfnqjXJOZPoLsDqKSs5",
      "include_colab_link": true
    },
    "kernelspec": {
      "name": "python3",
      "display_name": "Python 3"
    },
    "language_info": {
      "name": "python"
    }
  },
  "cells": [
    {
      "cell_type": "markdown",
      "metadata": {
        "id": "view-in-github",
        "colab_type": "text"
      },
      "source": [
        "<a href=\"https://colab.research.google.com/github/2303A51453/git/blob/master/lab_4.ipynb\" target=\"_parent\"><img src=\"https://colab.research.google.com/assets/colab-badge.svg\" alt=\"Open In Colab\"/></a>"
      ]
    },
    {
      "cell_type": "code",
      "source": [
        "import pandas as pd\n",
        "# creating a series from a list\n",
        "data=[10,20,30,40,50]\n",
        "series=pd.Series(data)\n",
        "print(\"Panda Series:\")\n",
        "print(series)"
      ],
      "metadata": {
        "colab": {
          "base_uri": "https://localhost:8080/"
        },
        "id": "lPSHtvdb8IaH",
        "outputId": "08a65fe4-d978-4472-9dec-a6ccfb0dabbc"
      },
      "execution_count": 2,
      "outputs": [
        {
          "output_type": "stream",
          "name": "stdout",
          "text": [
            "Panda Series:\n",
            "0    10\n",
            "1    20\n",
            "2    30\n",
            "3    40\n",
            "4    50\n",
            "dtype: int64\n"
          ]
        }
      ]
    },
    {
      "cell_type": "code",
      "source": [
        "# series with custom index\n",
        "import pandas as  pd\n",
        "data=[10,20,30,40,50]\n",
        "index_lables=['a','b','c','d','e']\n",
        "series=pd.Series(data,index=index_lables)\n",
        "print(series)"
      ],
      "metadata": {
        "colab": {
          "base_uri": "https://localhost:8080/"
        },
        "id": "GtEkHt-3800H",
        "outputId": "e6884a3c-e425-4318-cf21-a056ced84961"
      },
      "execution_count": 4,
      "outputs": [
        {
          "output_type": "stream",
          "name": "stdout",
          "text": [
            "a    10\n",
            "b    20\n",
            "c    30\n",
            "d    40\n",
            "e    50\n",
            "dtype: int64\n"
          ]
        }
      ]
    },
    {
      "cell_type": "code",
      "source": [
        "import pandas as pd\n",
        "\n",
        "# creating a dataframe from a dictionary\n",
        "data = {\n",
        "    'Name': ['alice', 'bob', 'charlie', 'david'],\n",
        "    'Age': [24, 30, 22, 28],\n",
        "    'City': ['New York', 'Los Angeles', 'Chicago', 'Houston']\n",
        "}\n",
        "# creating a DataFrame\n",
        "df = pd.DataFrame(data)\n",
        "\n",
        "print(\"Pandas DataFrame:\")\n",
        "print(df)\n"
      ],
      "metadata": {
        "colab": {
          "base_uri": "https://localhost:8080/"
        },
        "id": "Te9kXPD89pt9",
        "outputId": "c74b553e-c4ae-4422-c424-7389407d147f"
      },
      "execution_count": 5,
      "outputs": [
        {
          "output_type": "stream",
          "name": "stdout",
          "text": [
            "Pandas DataFrame:\n",
            "      Name  Age         City\n",
            "0    alice   24     New York\n",
            "1      bob   30  Los Angeles\n",
            "2  charlie   22      Chicago\n",
            "3    david   28      Houston\n"
          ]
        }
      ]
    },
    {
      "cell_type": "code",
      "source": [
        "import pandas as pd\n",
        "\n",
        "# Sample DataFrame\n",
        "data = {\n",
        "    'Name': ['Alice', 'Bob', 'Charlie', 'David'],\n",
        "    'City': ['New York', 'Paris', 'London', 'Berlin']\n",
        "}\n",
        "df = pd.DataFrame(data)\n",
        "\n",
        "# Access single column (works)\n",
        "print(df['Name'])\n",
        "\n",
        "# Access multiple columns (case-sensitive -> use 'Name' and 'City')\n",
        "print(df[['Name', 'City']])\n",
        "\n",
        "# Access rows using index\n",
        "print(df.loc[1])  # Row with index 1 (Bob)\n",
        "print(df.loc[2])  # Row with index 2 (Charlie)\n",
        "\n",
        "# Adding a new column\n",
        "df['Salary'] = [40000, 5000, 8000, 30000]\n",
        "print(df)\n",
        "\n",
        "# Removing a column\n",
        "df = df.drop('City', axis=1)\n",
        "print(df)\n"
      ],
      "metadata": {
        "colab": {
          "base_uri": "https://localhost:8080/"
        },
        "id": "8TAHfHff-0r4",
        "outputId": "b481336d-ac7c-475b-958c-63cc84394050"
      },
      "execution_count": 7,
      "outputs": [
        {
          "output_type": "stream",
          "name": "stdout",
          "text": [
            "0      Alice\n",
            "1        Bob\n",
            "2    Charlie\n",
            "3      David\n",
            "Name: Name, dtype: object\n",
            "      Name      City\n",
            "0    Alice  New York\n",
            "1      Bob     Paris\n",
            "2  Charlie    London\n",
            "3    David    Berlin\n",
            "Name      Bob\n",
            "City    Paris\n",
            "Name: 1, dtype: object\n",
            "Name    Charlie\n",
            "City     London\n",
            "Name: 2, dtype: object\n",
            "      Name      City  Salary\n",
            "0    Alice  New York   40000\n",
            "1      Bob     Paris    5000\n",
            "2  Charlie    London    8000\n",
            "3    David    Berlin   30000\n",
            "      Name  Salary\n",
            "0    Alice   40000\n",
            "1      Bob    5000\n",
            "2  Charlie    8000\n",
            "3    David   30000\n"
          ]
        }
      ]
    },
    {
      "cell_type": "code",
      "source": [
        "import pandas as pd\n",
        "\n",
        "# Example DataFrame\n",
        "data = {\n",
        "    \"name\": [\"Alice\", \"Bob\", \"Charlie\", \"David\"],\n",
        "    \"age\": [25, 32, 45, 29]\n",
        "}\n",
        "df = pd.DataFrame(data)\n",
        "\n",
        "# Filtering data: select rows where age > 30\n",
        "filtered_df = df[df[\"age\"] > 30]\n",
        "print(\"Rows where age > 30:\")\n",
        "print(filtered_df)\n",
        "\n",
        "# Basic statistics on the 'age' column\n",
        "print(\"\\nStatistics on age column:\")\n",
        "print(\"Mean age:\", df[\"age\"].mean())\n",
        "print(\"Max age:\", df[\"age\"].max())\n",
        "print(\"Min age:\", df[\"age\"].min())\n"
      ],
      "metadata": {
        "colab": {
          "base_uri": "https://localhost:8080/"
        },
        "id": "iOE3DkoG_-st",
        "outputId": "1c2168c8-5ac3-4d3a-fd8c-5c1d7b5ca96e"
      },
      "execution_count": 9,
      "outputs": [
        {
          "output_type": "stream",
          "name": "stdout",
          "text": [
            "Rows where age > 30:\n",
            "      name  age\n",
            "1      Bob   32\n",
            "2  Charlie   45\n",
            "\n",
            "Statistics on age column:\n",
            "Mean age: 32.75\n",
            "Max age: 45\n",
            "Min age: 25\n"
          ]
        }
      ]
    },
    {
      "cell_type": "code",
      "source": [
        "import pandas as pd\n",
        "\n",
        "# creating dataframe with student details\n",
        "student_data = {\n",
        "    'student_id': [101, 102, 103, 104],\n",
        "    'name': ['ravi', 'neha', 'kiran', 'sneha'],\n",
        "    'marks': [78, 89, 90, 99],\n",
        "    'department': ['cse', 'ece', 'mech', 'civil']\n",
        "}\n",
        "\n",
        "# create DataFrame\n",
        "df = pd.DataFrame(student_data)\n",
        "\n",
        "# display full data frame\n",
        "print(\"Student Data\")\n",
        "print(df)\n"
      ],
      "metadata": {
        "colab": {
          "base_uri": "https://localhost:8080/"
        },
        "id": "gvrGqZz3B8lO",
        "outputId": "aac4ea68-56b9-47a8-a1dd-f4fe7891d965"
      },
      "execution_count": 10,
      "outputs": [
        {
          "output_type": "stream",
          "name": "stdout",
          "text": [
            "Student Data\n",
            "   student_id   name  marks department\n",
            "0         101   ravi     78        cse\n",
            "1         102   neha     89        ece\n",
            "2         103  kiran     90       mech\n",
            "3         104  sneha     99      civil\n"
          ]
        }
      ]
    },
    {
      "cell_type": "code",
      "source": [
        "import pandas as pd\n",
        "\n",
        "# create student data\n",
        "student_data = {\n",
        "    's1_name': ['Ravi', 'Neha', 'Kiran', 'Sneha', 'Arjun'],\n",
        "    's1_roll_no': [101, 102, 103, 104, 105],\n",
        "    'm1': [78, 56, 90, 45, 88],\n",
        "    'm2': [88, 76, 85, 67, 92],\n",
        "    'm3': [92, 66, 70, 80, 75]\n",
        "}\n",
        "\n",
        "# create DataFrame\n",
        "df = pd.DataFrame(student_data)\n",
        "\n",
        "# calculate total, average, and result\n",
        "df['total'] = df[['m1', 'm2', 'm3']].sum(axis=1)\n",
        "df['average'] = df[['m1', 'm2', 'm3']].mean(axis=1)\n",
        "\n",
        "# result condition: Pass if all marks >= 40, else Fail\n",
        "df['result'] = df.apply(lambda row: 'Pass' if (row['m1'] >= 40 and row['m2'] >= 40 and row['m3'] >= 40) else 'Fail', axis=1)\n",
        "\n",
        "# display dataframe\n",
        "print(\"Student Data\")\n",
        "print(df)"
      ],
      "metadata": {
        "colab": {
          "base_uri": "https://localhost:8080/"
        },
        "id": "qcnaEXfRFJxi",
        "outputId": "973372f2-1178-43c2-f67b-9c011160c70e"
      },
      "execution_count": 11,
      "outputs": [
        {
          "output_type": "stream",
          "name": "stdout",
          "text": [
            "Student Data\n",
            "  s1_name  s1_roll_no  m1  m2  m3  total    average result\n",
            "0    Ravi         101  78  88  92    258  86.000000   Pass\n",
            "1    Neha         102  56  76  66    198  66.000000   Pass\n",
            "2   Kiran         103  90  85  70    245  81.666667   Pass\n",
            "3   Sneha         104  45  67  80    192  64.000000   Pass\n",
            "4   Arjun         105  88  92  75    255  85.000000   Pass\n"
          ]
        }
      ]
    },
    {
      "cell_type": "code",
      "source": [],
      "metadata": {
        "id": "yvsguxclJ8In"
      },
      "execution_count": null,
      "outputs": []
    }
  ]
}